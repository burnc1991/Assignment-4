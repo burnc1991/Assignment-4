{
 "cells": [
  {
   "cell_type": "markdown",
   "metadata": {},
   "source": [
    "# Assignment 4\n",
    "#### Carey Burns"
   ]
  },
  {
   "cell_type": "markdown",
   "metadata": {
    "collapsed": false
   },
   "source": [
    "### Parts 1 & 2: Import the modules and Dataset"
   ]
  },
  {
   "cell_type": "code",
   "execution_count": 1,
   "metadata": {
    "collapsed": false
   },
   "outputs": [
    {
     "name": "stdout",
     "output_type": "stream",
     "text": [
      "   SepalLength  SepalWidth  PetalLength  PetalWidth      Species\n",
      "0          5.1         3.5          1.4         0.2  Iris-setosa\n",
      "1          4.9         3.0          1.4         0.2  Iris-setosa\n",
      "2          4.7         3.2          1.3         0.2  Iris-setosa\n",
      "3          4.6         3.1          1.5         0.2  Iris-setosa\n",
      "4          5.0         3.6          1.4         0.2  Iris-setosa\n",
      "5          5.4         3.9          1.7         0.4  Iris-setosa\n"
     ]
    }
   ],
   "source": [
    "import pandas as pd\n",
    "import numpy as np\n",
    "import matplotlib.pyplot as plt\n",
    "from pandas.tools.plotting import scatter_matrix\n",
    "%matplotlib inline\n",
    "FIN = pd.read_csv('iris.txt')\n",
    "print(FIN.head(6))"
   ]
  },
  {
   "cell_type": "markdown",
   "metadata": {},
   "source": [
    "### Part 3: Create the Reduced Dataset\n",
    "\n",
    "In the previous assignment I noticed that petal length and width seemed to be the most dinstinguishing factors that might be useful in predicting species. Due to this observation, I will remove other variables and focus on these two traits."
   ]
  },
  {
   "cell_type": "code",
   "execution_count": 2,
   "metadata": {
    "collapsed": false
   },
   "outputs": [
    {
     "name": "stdout",
     "output_type": "stream",
     "text": [
      "   PetalLength  PetalWidth\n",
      "0          1.4         0.2\n",
      "1          1.4         0.2\n",
      "2          1.3         0.2\n",
      "3          1.5         0.2\n",
      "4          1.4         0.2\n",
      "5          1.7         0.4\n"
     ]
    }
   ],
   "source": [
    "NewData = FIN[['PetalLength', 'PetalWidth']]\n",
    "print(NewData.head(6))"
   ]
  },
  {
   "cell_type": "markdown",
   "metadata": {},
   "source": [
    "### Part 4: Create a Scatterplot of the Data\n",
    "In this scatterplot I can see two distinctive groups in the dataset that are distinguished by petal length and width."
   ]
  },
  {
   "cell_type": "code",
   "execution_count": 3,
   "metadata": {
    "collapsed": false,
    "scrolled": true
   },
   "outputs": [
    {
     "data": {
      "text/plain": [
       "<matplotlib.axes._subplots.AxesSubplot at 0x8e5c358>"
      ]
     },
     "execution_count": 3,
     "metadata": {},
     "output_type": "execute_result"
    },
    {
     "data": {
      "image/png": "[encoded data removed]",
      "text/plain": [
       "<matplotlib.figure.Figure at 0x4cc6390>"
      ]
     },
     "metadata": {},
     "output_type": "display_data"
    }
   ],
   "source": [
    "FIN.plot.scatter(x='PetalLength',y='PetalWidth')"
   ]
  },
  {
   "cell_type": "markdown",
   "metadata": {},
   "source": [
    "### Part 5: Implement the basic functions to create a regression model\n",
    "- I created two arrays for the length and width measurements outside the function so I can use them later to graph\n",
    "- I used the ones column using np.ones function and stacked them into the length matrix\n",
    "- I took the transpose of the ones and length matrix using np.transpose\n",
    "- I then multiplied the transposed matrix and length matrix\n",
    "- I took the inverse of this answer\n",
    "- I then multipled this new matrix with the petal width matrix\n",
    "- This produced the beta"
   ]
  },
  {
   "cell_type": "code",
   "execution_count": 8,
   "metadata": {
    "collapsed": false
   },
   "outputs": [],
   "source": [
    "X = NewData['PetalLength'].values\n",
    "Y = NewData['PetalWidth'].values\n",
    "def makedabeta(NewData):\n",
    "    Ones = np.ones(len(NewData))\n",
    "    X1 = np.stack((Ones,X), axis=-1)\n",
    "    Xtrn = np.transpose(X1)\n",
    "    Xdot = np.dot(Xtrn,X1)\n",
    "    Xinv = np.linalg.inv(Xdot)\n",
    "    Xident = np.dot(Xdot,Xinv)\n",
    "    Ydot = np.dot(Xtrn,Y)\n",
    "    Beta = np.dot(Xinv,Ydot)\n",
    "    print(Beta)\n",
    "    return Beta"
   ]
  },
  {
   "cell_type": "markdown",
   "metadata": {},
   "source": [
    "### Part 5 Con't: Create a function to use the least squares coefficients to predict the value of a given input point\n",
    "- I created another function that takes an x value to produce the y intercept"
   ]
  },
  {
   "cell_type": "code",
   "execution_count": 14,
   "metadata": {
    "collapsed": true
   },
   "outputs": [],
   "source": [
    "def predicty(x,Beta):\n",
    "    y = Beta[0]+(x*Beta[1])\n",
    "    return y"
   ]
  },
  {
   "cell_type": "markdown",
   "metadata": {},
   "source": [
    "### Part 6: Calculate the Predicted Values\n",
    "- I use my preticty function to calculate the beta and add it into the matrix in the 3rd column"
   ]
  },
  {
   "cell_type": "code",
   "execution_count": 15,
   "metadata": {
    "collapsed": false
   },
   "outputs": [
    {
     "name": "stdout",
     "output_type": "stream",
     "text": [
      "[-0.36651405  0.41641913]\n"
     ]
    },
    {
     "name": "stderr",
     "output_type": "stream",
     "text": [
      "C:\\Users\\Carey\\Anaconda3\\lib\\site-packages\\ipykernel\\__main__.py:2: SettingWithCopyWarning: \n",
      "A value is trying to be set on a copy of a slice from a DataFrame.\n",
      "Try using .loc[row_indexer,col_indexer] = value instead\n",
      "\n",
      "See the caveats in the documentation: http://pandas.pydata.org/pandas-docs/stable/indexing.html#indexing-view-versus-copy\n",
      "  from ipykernel import kernelapp as app\n"
     ]
    }
   ],
   "source": [
    "Beta = makedabeta(NewData)\n",
    "NewData['PredictedValue'] = predicty(NewData['PetalLength'],Beta)"
   ]
  },
  {
   "cell_type": "markdown",
   "metadata": {},
   "source": [
    "### Part 7: Plot the regression line on top of a scatter plot of the reduced data set\n",
    "- Using the X and Y I created above and setting the Z value equal to the predicted value I plot the data and the predicted regression"
   ]
  },
  {
   "cell_type": "code",
   "execution_count": 11,
   "metadata": {
    "collapsed": false
   },
   "outputs": [
    {
     "data": {
      "text/plain": [
       "[<matplotlib.lines.Line2D at 0x9cf3160>]"
      ]
     },
     "execution_count": 11,
     "metadata": {},
     "output_type": "execute_result"
    },
    {
     "data": {
      "image/png": "[encoded data removed]",
      "text/plain": [
       "<matplotlib.figure.Figure at 0x9cf3390>"
      ]
     },
     "metadata": {},
     "output_type": "display_data"
    }
   ],
   "source": [
    "Z = NewData['PredictedValue'].values\n",
    "plt.scatter(X,Y)\n",
    "plt.plot(X,Z, color = \"green\")"
   ]
  },
  {
   "cell_type": "markdown",
   "metadata": {},
   "source": [
    "### Conclusion: \n",
    "I don't understand the value of this model in helping to distinguish the different iris species. I wanted to add the species back into the data and re-run the model using the groupby species. However, I wasn't able to get my code working and ran out of time"
   ]
  },
  {
   "cell_type": "code",
   "execution_count": null,
   "metadata": {
    "collapsed": false
   },
   "outputs": [],
   "source": [
    "SP=FIN[['Species']]\n",
    "print(SP.head(6))"
   ]
  },
  {
   "cell_type": "code",
   "execution_count": null,
   "metadata": {
    "collapsed": false
   },
   "outputs": [],
   "source": [
    "FinalSet=[NewData, SP]\n",
    "FN=pd.concat(FinalSet, axis=1)\n",
    "print(FN.head(6))\n",
    "#NFIN=FN.groupby(\"Species\")\n",
    "#print(NFIN.head(6))\n",
    "#X = NFIN['PetalLength'].values\n",
    "#Y = NFIN['PetalWidth'].values\n",
    "#Z = NFIN['PredictedValue'].values\n",
    "#plt.scatter(X,Y)\n",
    "#plt.plot(X,Z, color = \"green\")"
   ]
  }
 ],
 "metadata": {
  "anaconda-cloud": {},
  "kernelspec": {
   "display_name": "Python [conda root]",
   "language": "python",
   "name": "conda-root-py"
  },
  "language_info": {
   "codemirror_mode": {
    "name": "ipython",
    "version": 3
   },
   "file_extension": ".py",
   "mimetype": "text/x-python",
   "name": "python",
   "nbconvert_exporter": "python",
   "pygments_lexer": "ipython3",
   "version": "3.5.2"
  }
 },
 "nbformat": 4,
 "nbformat_minor": 1
}
